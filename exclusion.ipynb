{
 "cells": [
  {
   "cell_type": "code",
   "execution_count": null,
   "id": "326a806f-5f9e-4324-b2b0-6166af547e9a",
   "metadata": {},
   "outputs": [],
   "source": [
    "from importlib import reload"
   ]
  },
  {
   "cell_type": "code",
   "execution_count": null,
   "id": "5928c1d1-a841-4677-a700-b58e275f2880",
   "metadata": {},
   "outputs": [],
   "source": [
    "import vibevolts"
   ]
  },
  {
   "cell_type": "code",
   "execution_count": null,
   "id": "401e0eea-e59c-4133-a451-4ebd55905287",
   "metadata": {},
   "outputs": [],
   "source": [
    "import exclusion"
   ]
  },
  {
   "cell_type": "code",
   "execution_count": null,
   "id": "9782bb74-b71b-4634-af0f-0e977feaf731",
   "metadata": {
    "scrolled": true
   },
   "outputs": [],
   "source": [
    "%run exclusion"
   ]
  },
  {
   "cell_type": "code",
   "execution_count": null,
   "id": "aebd5cf0-ca77-4063-97e4-099f87ada3ca",
   "metadata": {},
   "outputs": [],
   "source": []
  }
 ],
 "metadata": {
  "kernelspec": {
   "display_name": "Python 3 (ipykernel)",
   "language": "python",
   "name": "python3"
  },
  "language_info": {
   "codemirror_mode": {
    "name": "ipython",
    "version": 3
   },
   "file_extension": ".py",
   "mimetype": "text/x-python",
   "name": "python",
   "nbconvert_exporter": "python",
   "pygments_lexer": "ipython3",
   "version": "3.12.4"
  }
 },
 "nbformat": 4,
 "nbformat_minor": 5
}
