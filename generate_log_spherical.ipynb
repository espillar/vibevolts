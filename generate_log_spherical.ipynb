{
 "cells": [
  {
   "cell_type": "code",
   "execution_count": 9,
   "id": "3ebee3f6-63a0-4551-be10-725879053011",
   "metadata": {},
   "outputs": [],
   "source": [
    "from  importlib import reload"
   ]
  },
  {
   "cell_type": "code",
   "execution_count": 8,
   "id": "9ddc6e8a-1eb5-4b4e-91c6-dda4e4b3249d",
   "metadata": {},
   "outputs": [],
   "source": [
    "import generate_log_spherical_points"
   ]
  },
  {
   "cell_type": "code",
   "execution_count": 11,
   "id": "2a638592-e7e5-48c9-afaa-39abd8d1559a",
   "metadata": {},
   "outputs": [
    {
     "data": {
      "text/plain": [
       "<module 'generate_log_spherical_points' from '/Users/espillar0/Desktop/vibevolts/generate_log_spherical_points.py'>"
      ]
     },
     "execution_count": 11,
     "metadata": {},
     "output_type": "execute_result"
    }
   ],
   "source": [
    "reload(generate_log_spherical_points)"
   ]
  },
  {
   "cell_type": "code",
   "execution_count": 3,
   "id": "be19751e-657e-41d6-bdf6-5e3e94675f27",
   "metadata": {},
   "outputs": [
    {
     "data": {
      "text/plain": [
       "['__builtins__',\n",
       " '__cached__',\n",
       " '__doc__',\n",
       " '__file__',\n",
       " '__loader__',\n",
       " '__name__',\n",
       " '__package__',\n",
       " '__spec__',\n",
       " 'generate_log_spherical_points',\n",
       " 'np',\n",
       " 'plt',\n",
       " 'px',\n",
       " 'visualize_point_distribution']"
      ]
     },
     "execution_count": 3,
     "metadata": {},
     "output_type": "execute_result"
    }
   ],
   "source": [
    "dir(generate_log_spherical_points)"
   ]
  },
  {
   "cell_type": "code",
   "execution_count": 4,
   "id": "3742b24d-34e3-48ca-9f29-e5095bc578b7",
   "metadata": {},
   "outputs": [
    {
     "name": "stdout",
     "output_type": "stream",
     "text": [
      "Help on function generate_log_spherical_points in module generate_log_spherical_points:\n",
      "\n",
      "generate_log_spherical_points(num_points: int, inner_radius: float, outer_radius: float) -> numpy.ndarray\n",
      "    Generates a set of 3D points with logarithmic radial and uniform angular distribution.\n",
      "\n",
      "    The function creates a point cloud where the distances of points from the origin\n",
      "    are logarithmically spaced between an inner and outer radius. For any given\n",
      "    radius, the points on the corresponding spherical shell are distributed\n",
      "    uniformly using the Fibonacci lattice method, which ensures an equal-area\n",
      "    distribution.\n",
      "\n",
      "    Args:\n",
      "        num_points: The total number of points to generate.\n",
      "        inner_radius: The minimum distance from the origin. Must be positive.\n",
      "        outer_radius: The maximum distance from the origin. Must be greater than\n",
      "                      or equal to inner_radius.\n",
      "\n",
      "    Returns:\n",
      "        A NumPy array of shape (num_points, 3) containing the Cartesian\n",
      "        coordinates (x, y, z) of the generated points.\n",
      "\n"
     ]
    }
   ],
   "source": [
    "help(generate_log_spherical_points.generate_log_spherical_points)"
   ]
  },
  {
   "cell_type": "code",
   "execution_count": 12,
   "id": "4b7662f1-013a-4777-bfc3-dd1273858b33",
   "metadata": {},
   "outputs": [],
   "source": [
    "points = generate_log_spherical_points.generate_log_spherical_points(100,10,100)"
   ]
  },
  {
   "cell_type": "code",
   "execution_count": 6,
   "id": "a52bb5bd-a98f-4ae1-bd12-6cee33e54eac",
   "metadata": {},
   "outputs": [
    {
     "name": "stdout",
     "output_type": "stream",
     "text": [
      "Help on function visualize_point_distribution in module generate_log_spherical_points:\n",
      "\n",
      "visualize_point_distribution(points: numpy.ndarray)\n",
      "    Visualizes the distribution of a 3D point cloud with four plots.\n",
      "\n",
      "    This function generates and displays four plots for analysis:\n",
      "    1. A 3D interactive scatter plot of the points using Plotly.\n",
      "    2. A histogram of the radial distances of the points from the origin.\n",
      "    3. A histogram of the longitude (azimuthal angle) distribution.\n",
      "    4. A histogram of the latitude (polar angle) distribution.\n",
      "\n",
      "    Args:\n",
      "        points: A NumPy array of shape (num_points, 3) with Cartesian coordinates.\n",
      "\n"
     ]
    }
   ],
   "source": [
    "help(generate_log_spherical_points.visualize_point_distribution)"
   ]
  },
  {
   "cell_type": "code",
   "execution_count": 13,
   "id": "84bfabea-4325-408c-8629-1f196005249b",
   "metadata": {},
   "outputs": [
    {
     "name": "stdout",
     "output_type": "stream",
     "text": [
      "--- Sample of Generated Points ---\n",
      "            X          Y          Z      Radius\n",
      "0    3.778083   9.717274  73.168148   73.907220\n",
      "1  -13.069495  -6.448464  58.149972   59.948425\n",
      "2   27.317120  -7.952175  86.560462   91.116276\n",
      "3   -9.497607  15.634848  46.286319   49.770236\n",
      "4   -1.116746  -5.632207  12.602466   13.848864\n",
      "5   23.623545  17.348587  57.209851   64.280731\n",
      "6  -49.016828   5.324528  87.000000  100.000000\n",
      "7    8.222141  -9.356355  20.098160   23.644894\n",
      "8    0.171146   8.280841  12.325237   14.849683\n",
      "9   -5.353574  -5.606848  10.707723   13.219411\n",
      "10   6.261312   0.419336   8.085895   10.235310\n",
      "11 -18.326507  14.661681  28.323524   36.783798\n",
      "12   9.938864 -63.854275  73.275747   97.700996\n",
      "13  11.297959  16.975735  21.780625   29.836472\n",
      "14 -24.005685  -5.924170  24.929461   35.111917\n",
      "----------------------------------\n",
      "\n",
      "Displaying 3D scatter plot...\n"
     ]
    },
    {
     "data": {
      "application/vnd.plotly.v1+json": {
       "config": {
        "plotlyServerURL": "https://plot.ly"
       },
       "data": [
        {
         "hovertemplate": "X-axis=%{x}<br>Y-axis=%{y}<br>Z-axis=%{z}<br>Radius=%{marker.color}<extra></extra>",
         "legendgroup": "",
         "marker": {
          "color": [
           73.90722033525779,
           59.94842503189409,
           91.11627561154894,
           49.770235643321115,
           13.848863713938732,
           64.28073117284322,
           100,
           23.644894126454076,
           14.849682622544648,
           13.21941148466029,
           10.235310218990262,
           36.783797718286344,
           97.70099572992257,
           29.836472402833405,
           35.11191734215131,
           89.02150854450389,
           44.30621457583882,
           10.722672220103231,
           12.32846739442066,
           19.630406500402703,
           70.54802310718645,
           42.29242874389499,
           72.20809018385464,
           29.150530628251772,
           14.508287784959395,
           19.17910261672489,
           26.56087782946687,
           41.32012400115339,
           20.565123083486515,
           75.64633275546291,
           34.30469286314919,
           12.045035402587823,
           25.353644939701113,
           15.556761439304724,
           39.442060594376564,
           15.922827933410922,
           27.825594022071243,
           16.68100537200059,
           77.4263682681127,
           30.538555088334157,
           22.570197196339205,
           31.25715849688237,
           17.88649529057435,
           54.62277217684343,
           31.992671377973846,
           17.47528400007684,
           17.073526474706906,
           24.20128264794382,
           35.938136638046274,
           18.30738280295368,
           55.90810182512222,
           57.2236765935022,
           23.1012970008316,
           62.802914418342525,
           37.64935806792467,
           16.297508346206442,
           68.926121043497,
           10,
           40.37017258596554,
           86.97490026177834,
           21.54434690031885,
           45.34878508128582,
           58.570208180566674,
           28.480358684358023,
           33.516026509388425,
           10.97498765493056,
           25.950242113997355,
           79.24828983539177,
           12.915496650148842,
           11.497569953977356,
           53.3669923120631,
           38.535285937105286,
           18.738174228603842,
           46.4158883361278,
           47.50810162102798,
           22.051307399030456,
           48.62601580065353,
           81.11308307896873,
           52.14008287999685,
           20.09233002565047,
           11.233240329780278,
           95.45484566618342,
           43.287612810830595,
           13.53047774579807,
           61.35907273413176,
           21.049041445120206,
           84.97534359086447,
           27.1858824273294,
           83.02175681319744,
           67.34150657750821,
           24.770763559917118,
           50.9413801481638,
           14.174741629268054,
           15.199110829529339,
           93.26033468832199,
           12.618568830660204,
           32.74549162877728,
           11.768119524349984,
           65.79332246575683,
           10.476157527896646
          ],
          "coloraxis": "coloraxis",
          "size": 2,
          "symbol": "circle"
         },
         "mode": "markers",
         "name": "",
         "scene": "scene",
         "showlegend": false,
         "type": "scatter3d",
         "x": [
          3.778083077379369,
          -13.069494763731864,
          27.317119963150965,
          -9.497607328147996,
          -1.116745737470697,
          23.623545441365597,
          -49.016827751753254,
          8.222140653031607,
          0.1711462476991141,
          -5.353574094772302,
          6.261312437270467,
          -18.326507286510214,
          9.93886398832563,
          11.297958957416247,
          -24.005684868348826,
          56.556510279574795,
          -10.642144686591582,
          -3.2640955300548553,
          8.753706468841493,
          -14.742812159038175,
          27.536078831407778,
          8.161056875316337,
          -50.039926509549595,
          24.44373360164972,
          -7.843579671560848,
          -1.0358113160966569,
          16.87705970232839,
          -36.88801357176919,
          14.006423651239016,
          -7.785481377496144,
          -18.573005230651518,
          10.965784865508072,
          -20.358237687833636,
          4.173327577604037,
          16.42797685199906,
          -14.175734682198646,
          25.018227338697606,
          -7.21706076847988,
          -20.707598903556114,
          25.44233309744396,
          -21.756678062413325,
          18.353029667711787,
          1.8239449908293999,
          -40.50787410979702,
          31.794564411290143,
          -12.646252190188855,
          1.2209889370240197,
          15.007556731470764,
          -35.467202997129284,
          15.289148850620498,
          -13.65919424180671,
          -27.160930901155965,
          21.794638988996727,
          -57.52463210422421,
          15.354672267774307,
          5.091366085137814,
          -59.66314664389804,
          9.621541614984055,
          -22.363518443018396,
          -12.309019210187422,
          16.318798327876397,
          -44.061045825227374,
          39.561491738908764,
          -0.8341051268583276,
          -20.9374145225383,
          10.361812991628161,
          -19.88482258136616,
          15.148046664524735,
          6.129226977856368,
          -10.135824252764259,
          43.859188626834175,
          -12.923064651396086,
          -5.9114279615778464,
          36.56235156752917,
          -39.874352633736706,
          10.005461025145147,
          7.62483366081896,
          -54.2071208479719,
          42.63319388396743,
          -10.827083446486915,
          -0.09709455496865929,
          50.667201332403266,
          -32.799202353133744,
          7.904184984403268,
          -7.2583129340637615,
          -8.09174719694534,
          56.246140317134056,
          -15.866540481231533,
          17.627446357319734,
          16.168879520373377,
          -13.223358934773287,
          27.01652087085713,
          -3.6733204454516355,
          -1.688837719336565,
          35.05119300644409,
          -5.18073907193642,
          7.655660084046425,
          0.19186540376962866,
          -11.405324575352976,
          1.4769232320610535
         ],
         "y": [
          9.71727353182662,
          -6.448464480140906,
          -7.952174913034493,
          15.634847960079112,
          -5.632207059048087,
          17.348587226737326,
          5.324527880944185,
          -9.356355361276059,
          8.280840916252542,
          -5.606848142053353,
          0.4193360349953929,
          14.661680657718874,
          -63.854275350340416,
          16.975735324512925,
          -5.924170160524471,
          -30.873597935331844,
          31.121961035687406,
          -7.466200295658772,
          3.877945392892223,
          4.9611037121189145,
          -49.8626716510317,
          33.77742512010834,
          -33.65674576958764,
          -3.6826055142367378,
          9.706704671943086,
          -16.686736462792958,
          16.272814871193397,
          -0.9424389035099524,
          -12.18793186695349,
          68.5552619098936,
          -25.551170837592295,
          2.229931423918389,
          12.231335752376724,
          -14.079807051442046,
          33.70900833677753,
          -5.5912950398483625,
          -9.58687441468368,
          14.449186060847394,
          -72.44936633553209,
          15.625723210283022,
          4.203679690063665,
          -24.737434619405647,
          17.58981487651654,
          -35.9490714348422,
          -0.5019665630010844,
          11.957601492913623,
          -16.987822588471964,
          18.947587380794396,
          -5.6977874545119676,
          -10.068201253994907,
          54.21097389613897,
          -50.33771847445782,
          7.571621996120336,
          24.815240297447627,
          -34.208575851039754,
          15.377675489631441,
          -33.32912244437259,
          -2.2750685596548554,
          32.90173366783099,
          -84.49874591011577,
          13.318644741081748,
          2.5193348376546894,
          -40.63192497670386,
          27.40991904151612,
          -24.29973569642225,
          1.2279684566458404,
          14.306431980747895,
          -72.6738771668262,
          10.315344590446546,
          -3.058178656571656,
          -21.110485829263226,
          32.30157938212079,
          -15.654793523350358,
          18.485521763159365,
          11.186835432338842,
          -16.11442337110878,
          40.52365048065332,
          -40.62846651499301,
          -4.210665258726935,
          12.080869965806203,
          -8.900705945884905,
          54.111526417892065,
          -2.518310286691979,
          -6.19805181967783,
          43.81514307325469,
          -12.419265090266489,
          14.464148502871526,
          8.461499992565958,
          -49.952532694554904,
          37.98984293546347,
          -6.013038301460466,
          -8.798842662589164,
          6.500994748975502,
          -7.3011697807110085,
          24.07534102079093,
          0.7288922321199249,
          -9.287312333023642,
          3.669581691136823,
          -11.213757757453946,
          0.052156590470575005
         ],
         "z": [
          73.16814813190521,
          58.14997228093726,
          86.5604618309715,
          46.286319148288634,
          12.602465979684247,
          57.209850743830465,
          87,
          20.098160007485962,
          12.32523657671206,
          10.707723302574834,
          8.085895073002307,
          28.323524243080485,
          73.27574679744193,
          21.780624854068385,
          24.929461312927426,
          61.424840895707675,
          29.685163765812007,
          6.9697369430671,
          7.766934458485015,
          11.974547965245648,
          41.623333633240016,
          24.106684384020145,
          39.71444960112005,
          15.44978123297344,
          7.3992267703292915,
          9.397760282195195,
          12.483612579849428,
          18.594055800519023,
          8.843002925899203,
          31.014996429739796,
          13.378830216628186,
          4.4566630989574945,
          8.873775728895389,
          5.1337312749705575,
          12.227038784256736,
          4.617620100689168,
          7.512910385959236,
          4.170251343000148,
          17.80806470166592,
          6.413096568550172,
          4.288337467304448,
          5.313716944470004,
          2.6829742935861534,
          7.100960382989646,
          3.5191938515771226,
          1.572775560006915,
          1.1951468532294827,
          1.2100641323971921,
          1.078144099141389,
          0.18307382802953695,
          -0.5590810182512227,
          -1.7167102978050675,
          -1.1550648500415812,
          -4.396204009283981,
          -3.3884422261132237,
          -1.7927259180827102,
          -8.960395735654602,
          -1.4999999999999991,
          -6.862929339614139,
          -16.52523104973788,
          -4.524312849066957,
          -10.430220568695738,
          -14.642552045141668,
          -7.689696844776666,
          -9.719647687722645,
          -3.4022461730284745,
          -8.56357989761913,
          -27.73690144238713,
          -4.778733760555072,
          -4.4840522820511675,
          -21.880466847945865,
          -16.570172952955275,
          -8.432178402871727,
          -21.815467517980064,
          -23.278969794303713,
          -11.246166773505532,
          -25.771788374346375,
          -44.6121956934328,
          -29.719847241598206,
          -11.854474715133778,
          -6.852276601165969,
          -60.13655276969554,
          -28.13694832703988,
          -9.065420089684705,
          -42.33776018655091,
          -14.944819426035346,
          -62.03200082133106,
          -20.38941182049705,
          -63.92675274616203,
          -53.19979019623149,
          -20.064318483532865,
          -42.28134552297596,
          -12.048530384877848,
          -13.223226421690526,
          -83.00169787260656,
          -11.482897635900784,
          -30.45330721476287,
          -11.179713548132485,
          -63.819522791784124,
          -10.37139595261768
         ]
        }
       ],
       "layout": {
        "autosize": true,
        "coloraxis": {
         "colorbar": {
          "title": {
           "text": "Radius"
          }
         },
         "colorscale": [
          [
           0,
           "#440154"
          ],
          [
           0.1111111111111111,
           "#482878"
          ],
          [
           0.2222222222222222,
           "#3e4989"
          ],
          [
           0.3333333333333333,
           "#31688e"
          ],
          [
           0.4444444444444444,
           "#26828e"
          ],
          [
           0.5555555555555556,
           "#1f9e89"
          ],
          [
           0.6666666666666666,
           "#35b779"
          ],
          [
           0.7777777777777778,
           "#6ece58"
          ],
          [
           0.8888888888888888,
           "#b5de2b"
          ],
          [
           1,
           "#fde725"
          ]
         ]
        },
        "legend": {
         "tracegroupgap": 0
        },
        "margin": {
         "b": 0,
         "l": 0,
         "r": 0,
         "t": 40
        },
        "scene": {
         "aspectmode": "auto",
         "aspectratio": {
          "x": 0.8036872359471547,
          "y": 1.0584057443612513,
          "z": 1.1756031491258316
         },
         "domain": {
          "x": [
           0,
           1
          ],
          "y": [
           0,
           1
          ]
         },
         "xaxis": {
          "title": {
           "text": "X"
          },
          "type": "linear"
         },
         "yaxis": {
          "title": {
           "text": "Y"
          },
          "type": "linear"
         },
         "zaxis": {
          "title": {
           "text": "Z"
          },
          "type": "linear"
         }
        },
        "template": {
         "data": {
          "bar": [
           {
            "error_x": {
             "color": "#2a3f5f"
            },
            "error_y": {
             "color": "#2a3f5f"
            },
            "marker": {
             "line": {
              "color": "#E5ECF6",
              "width": 0.5
             },
             "pattern": {
              "fillmode": "overlay",
              "size": 10,
              "solidity": 0.2
             }
            },
            "type": "bar"
           }
          ],
          "barpolar": [
           {
            "marker": {
             "line": {
              "color": "#E5ECF6",
              "width": 0.5
             },
             "pattern": {
              "fillmode": "overlay",
              "size": 10,
              "solidity": 0.2
             }
            },
            "type": "barpolar"
           }
          ],
          "carpet": [
           {
            "aaxis": {
             "endlinecolor": "#2a3f5f",
             "gridcolor": "white",
             "linecolor": "white",
             "minorgridcolor": "white",
             "startlinecolor": "#2a3f5f"
            },
            "baxis": {
             "endlinecolor": "#2a3f5f",
             "gridcolor": "white",
             "linecolor": "white",
             "minorgridcolor": "white",
             "startlinecolor": "#2a3f5f"
            },
            "type": "carpet"
           }
          ],
          "choropleth": [
           {
            "colorbar": {
             "outlinewidth": 0,
             "ticks": ""
            },
            "type": "choropleth"
           }
          ],
          "contour": [
           {
            "colorbar": {
             "outlinewidth": 0,
             "ticks": ""
            },
            "colorscale": [
             [
              0,
              "#0d0887"
             ],
             [
              0.1111111111111111,
              "#46039f"
             ],
             [
              0.2222222222222222,
              "#7201a8"
             ],
             [
              0.3333333333333333,
              "#9c179e"
             ],
             [
              0.4444444444444444,
              "#bd3786"
             ],
             [
              0.5555555555555556,
              "#d8576b"
             ],
             [
              0.6666666666666666,
              "#ed7953"
             ],
             [
              0.7777777777777778,
              "#fb9f3a"
             ],
             [
              0.8888888888888888,
              "#fdca26"
             ],
             [
              1,
              "#f0f921"
             ]
            ],
            "type": "contour"
           }
          ],
          "contourcarpet": [
           {
            "colorbar": {
             "outlinewidth": 0,
             "ticks": ""
            },
            "type": "contourcarpet"
           }
          ],
          "heatmap": [
           {
            "colorbar": {
             "outlinewidth": 0,
             "ticks": ""
            },
            "colorscale": [
             [
              0,
              "#0d0887"
             ],
             [
              0.1111111111111111,
              "#46039f"
             ],
             [
              0.2222222222222222,
              "#7201a8"
             ],
             [
              0.3333333333333333,
              "#9c179e"
             ],
             [
              0.4444444444444444,
              "#bd3786"
             ],
             [
              0.5555555555555556,
              "#d8576b"
             ],
             [
              0.6666666666666666,
              "#ed7953"
             ],
             [
              0.7777777777777778,
              "#fb9f3a"
             ],
             [
              0.8888888888888888,
              "#fdca26"
             ],
             [
              1,
              "#f0f921"
             ]
            ],
            "type": "heatmap"
           }
          ],
          "heatmapgl": [
           {
            "colorbar": {
             "outlinewidth": 0,
             "ticks": ""
            },
            "colorscale": [
             [
              0,
              "#0d0887"
             ],
             [
              0.1111111111111111,
              "#46039f"
             ],
             [
              0.2222222222222222,
              "#7201a8"
             ],
             [
              0.3333333333333333,
              "#9c179e"
             ],
             [
              0.4444444444444444,
              "#bd3786"
             ],
             [
              0.5555555555555556,
              "#d8576b"
             ],
             [
              0.6666666666666666,
              "#ed7953"
             ],
             [
              0.7777777777777778,
              "#fb9f3a"
             ],
             [
              0.8888888888888888,
              "#fdca26"
             ],
             [
              1,
              "#f0f921"
             ]
            ],
            "type": "heatmapgl"
           }
          ],
          "histogram": [
           {
            "marker": {
             "pattern": {
              "fillmode": "overlay",
              "size": 10,
              "solidity": 0.2
             }
            },
            "type": "histogram"
           }
          ],
          "histogram2d": [
           {
            "colorbar": {
             "outlinewidth": 0,
             "ticks": ""
            },
            "colorscale": [
             [
              0,
              "#0d0887"
             ],
             [
              0.1111111111111111,
              "#46039f"
             ],
             [
              0.2222222222222222,
              "#7201a8"
             ],
             [
              0.3333333333333333,
              "#9c179e"
             ],
             [
              0.4444444444444444,
              "#bd3786"
             ],
             [
              0.5555555555555556,
              "#d8576b"
             ],
             [
              0.6666666666666666,
              "#ed7953"
             ],
             [
              0.7777777777777778,
              "#fb9f3a"
             ],
             [
              0.8888888888888888,
              "#fdca26"
             ],
             [
              1,
              "#f0f921"
             ]
            ],
            "type": "histogram2d"
           }
          ],
          "histogram2dcontour": [
           {
            "colorbar": {
             "outlinewidth": 0,
             "ticks": ""
            },
            "colorscale": [
             [
              0,
              "#0d0887"
             ],
             [
              0.1111111111111111,
              "#46039f"
             ],
             [
              0.2222222222222222,
              "#7201a8"
             ],
             [
              0.3333333333333333,
              "#9c179e"
             ],
             [
              0.4444444444444444,
              "#bd3786"
             ],
             [
              0.5555555555555556,
              "#d8576b"
             ],
             [
              0.6666666666666666,
              "#ed7953"
             ],
             [
              0.7777777777777778,
              "#fb9f3a"
             ],
             [
              0.8888888888888888,
              "#fdca26"
             ],
             [
              1,
              "#f0f921"
             ]
            ],
            "type": "histogram2dcontour"
           }
          ],
          "mesh3d": [
           {
            "colorbar": {
             "outlinewidth": 0,
             "ticks": ""
            },
            "type": "mesh3d"
           }
          ],
          "parcoords": [
           {
            "line": {
             "colorbar": {
              "outlinewidth": 0,
              "ticks": ""
             }
            },
            "type": "parcoords"
           }
          ],
          "pie": [
           {
            "automargin": true,
            "type": "pie"
           }
          ],
          "scatter": [
           {
            "fillpattern": {
             "fillmode": "overlay",
             "size": 10,
             "solidity": 0.2
            },
            "type": "scatter"
           }
          ],
          "scatter3d": [
           {
            "line": {
             "colorbar": {
              "outlinewidth": 0,
              "ticks": ""
             }
            },
            "marker": {
             "colorbar": {
              "outlinewidth": 0,
              "ticks": ""
             }
            },
            "type": "scatter3d"
           }
          ],
          "scattercarpet": [
           {
            "marker": {
             "colorbar": {
              "outlinewidth": 0,
              "ticks": ""
             }
            },
            "type": "scattercarpet"
           }
          ],
          "scattergeo": [
           {
            "marker": {
             "colorbar": {
              "outlinewidth": 0,
              "ticks": ""
             }
            },
            "type": "scattergeo"
           }
          ],
          "scattergl": [
           {
            "marker": {
             "colorbar": {
              "outlinewidth": 0,
              "ticks": ""
             }
            },
            "type": "scattergl"
           }
          ],
          "scattermapbox": [
           {
            "marker": {
             "colorbar": {
              "outlinewidth": 0,
              "ticks": ""
             }
            },
            "type": "scattermapbox"
           }
          ],
          "scatterpolar": [
           {
            "marker": {
             "colorbar": {
              "outlinewidth": 0,
              "ticks": ""
             }
            },
            "type": "scatterpolar"
           }
          ],
          "scatterpolargl": [
           {
            "marker": {
             "colorbar": {
              "outlinewidth": 0,
              "ticks": ""
             }
            },
            "type": "scatterpolargl"
           }
          ],
          "scatterternary": [
           {
            "marker": {
             "colorbar": {
              "outlinewidth": 0,
              "ticks": ""
             }
            },
            "type": "scatterternary"
           }
          ],
          "surface": [
           {
            "colorbar": {
             "outlinewidth": 0,
             "ticks": ""
            },
            "colorscale": [
             [
              0,
              "#0d0887"
             ],
             [
              0.1111111111111111,
              "#46039f"
             ],
             [
              0.2222222222222222,
              "#7201a8"
             ],
             [
              0.3333333333333333,
              "#9c179e"
             ],
             [
              0.4444444444444444,
              "#bd3786"
             ],
             [
              0.5555555555555556,
              "#d8576b"
             ],
             [
              0.6666666666666666,
              "#ed7953"
             ],
             [
              0.7777777777777778,
              "#fb9f3a"
             ],
             [
              0.8888888888888888,
              "#fdca26"
             ],
             [
              1,
              "#f0f921"
             ]
            ],
            "type": "surface"
           }
          ],
          "table": [
           {
            "cells": {
             "fill": {
              "color": "#EBF0F8"
             },
             "line": {
              "color": "white"
             }
            },
            "header": {
             "fill": {
              "color": "#C8D4E3"
             },
             "line": {
              "color": "white"
             }
            },
            "type": "table"
           }
          ]
         },
         "layout": {
          "annotationdefaults": {
           "arrowcolor": "#2a3f5f",
           "arrowhead": 0,
           "arrowwidth": 1
          },
          "autotypenumbers": "strict",
          "coloraxis": {
           "colorbar": {
            "outlinewidth": 0,
            "ticks": ""
           }
          },
          "colorscale": {
           "diverging": [
            [
             0,
             "#8e0152"
            ],
            [
             0.1,
             "#c51b7d"
            ],
            [
             0.2,
             "#de77ae"
            ],
            [
             0.3,
             "#f1b6da"
            ],
            [
             0.4,
             "#fde0ef"
            ],
            [
             0.5,
             "#f7f7f7"
            ],
            [
             0.6,
             "#e6f5d0"
            ],
            [
             0.7,
             "#b8e186"
            ],
            [
             0.8,
             "#7fbc41"
            ],
            [
             0.9,
             "#4d9221"
            ],
            [
             1,
             "#276419"
            ]
           ],
           "sequential": [
            [
             0,
             "#0d0887"
            ],
            [
             0.1111111111111111,
             "#46039f"
            ],
            [
             0.2222222222222222,
             "#7201a8"
            ],
            [
             0.3333333333333333,
             "#9c179e"
            ],
            [
             0.4444444444444444,
             "#bd3786"
            ],
            [
             0.5555555555555556,
             "#d8576b"
            ],
            [
             0.6666666666666666,
             "#ed7953"
            ],
            [
             0.7777777777777778,
             "#fb9f3a"
            ],
            [
             0.8888888888888888,
             "#fdca26"
            ],
            [
             1,
             "#f0f921"
            ]
           ],
           "sequentialminus": [
            [
             0,
             "#0d0887"
            ],
            [
             0.1111111111111111,
             "#46039f"
            ],
            [
             0.2222222222222222,
             "#7201a8"
            ],
            [
             0.3333333333333333,
             "#9c179e"
            ],
            [
             0.4444444444444444,
             "#bd3786"
            ],
            [
             0.5555555555555556,
             "#d8576b"
            ],
            [
             0.6666666666666666,
             "#ed7953"
            ],
            [
             0.7777777777777778,
             "#fb9f3a"
            ],
            [
             0.8888888888888888,
             "#fdca26"
            ],
            [
             1,
             "#f0f921"
            ]
           ]
          },
          "colorway": [
           "#636efa",
           "#EF553B",
           "#00cc96",
           "#ab63fa",
           "#FFA15A",
           "#19d3f3",
           "#FF6692",
           "#B6E880",
           "#FF97FF",
           "#FECB52"
          ],
          "font": {
           "color": "#2a3f5f"
          },
          "geo": {
           "bgcolor": "white",
           "lakecolor": "white",
           "landcolor": "#E5ECF6",
           "showlakes": true,
           "showland": true,
           "subunitcolor": "white"
          },
          "hoverlabel": {
           "align": "left"
          },
          "hovermode": "closest",
          "mapbox": {
           "style": "light"
          },
          "paper_bgcolor": "white",
          "plot_bgcolor": "#E5ECF6",
          "polar": {
           "angularaxis": {
            "gridcolor": "white",
            "linecolor": "white",
            "ticks": ""
           },
           "bgcolor": "#E5ECF6",
           "radialaxis": {
            "gridcolor": "white",
            "linecolor": "white",
            "ticks": ""
           }
          },
          "scene": {
           "xaxis": {
            "backgroundcolor": "#E5ECF6",
            "gridcolor": "white",
            "gridwidth": 2,
            "linecolor": "white",
            "showbackground": true,
            "ticks": "",
            "zerolinecolor": "white"
           },
           "yaxis": {
            "backgroundcolor": "#E5ECF6",
            "gridcolor": "white",
            "gridwidth": 2,
            "linecolor": "white",
            "showbackground": true,
            "ticks": "",
            "zerolinecolor": "white"
           },
           "zaxis": {
            "backgroundcolor": "#E5ECF6",
            "gridcolor": "white",
            "gridwidth": 2,
            "linecolor": "white",
            "showbackground": true,
            "ticks": "",
            "zerolinecolor": "white"
           }
          },
          "shapedefaults": {
           "line": {
            "color": "#2a3f5f"
           }
          },
          "ternary": {
           "aaxis": {
            "gridcolor": "white",
            "linecolor": "white",
            "ticks": ""
           },
           "baxis": {
            "gridcolor": "white",
            "linecolor": "white",
            "ticks": ""
           },
           "bgcolor": "#E5ECF6",
           "caxis": {
            "gridcolor": "white",
            "linecolor": "white",
            "ticks": ""
           }
          },
          "title": {
           "x": 0.05
          },
          "xaxis": {
           "automargin": true,
           "gridcolor": "white",
           "linecolor": "white",
           "ticks": "",
           "title": {
            "standoff": 15
           },
           "zerolinecolor": "white",
           "zerolinewidth": 2
          },
          "yaxis": {
           "automargin": true,
           "gridcolor": "white",
           "linecolor": "white",
           "ticks": "",
           "title": {
            "standoff": 15
           },
           "zerolinecolor": "white",
           "zerolinewidth": 2
          }
         }
        },
        "title": {
         "text": "3D Scatter Plot of Generated Points"
        }
       }
      },
      "image/png": "[encoded data removed]",
      "text/html": [
       "<div>                            <div id=\"fef37d58-3aec-42a6-b7c5-20faa8fe2b58\" class=\"plotly-graph-div\" style=\"height:525px; width:100%;\"></div>            <script type=\"text/javascript\">                require([\"plotly\"], function(Plotly) {                    window.PLOTLYENV=window.PLOTLYENV || {};                                    if (document.getElementById(\"fef37d58-3aec-42a6-b7c5-20faa8fe2b58\")) {                    Plotly.newPlot(                        \"fef37d58-3aec-42a6-b7c5-20faa8fe2b58\",                        [{\"hovertemplate\":\"X-axis=%{x}\\u003cbr\\u003eY-axis=%{y}\\u003cbr\\u003eZ-axis=%{z}\\u003cbr\\u003eRadius=%{marker.color}\\u003cextra\\u003e\\u003c\\u002fextra\\u003e\",\"legendgroup\":\"\",\"marker\":{\"color\":[73.90722033525779,59.94842503189409,91.11627561154894,49.770235643321115,13.848863713938732,64.28073117284322,100.0,23.644894126454076,14.849682622544648,13.21941148466029,10.235310218990262,36.783797718286344,97.70099572992257,29.836472402833405,35.11191734215131,89.02150854450389,44.30621457583882,10.722672220103231,12.32846739442066,19.630406500402703,70.54802310718645,42.29242874389499,72.20809018385464,29.150530628251772,14.508287784959395,19.17910261672489,26.56087782946687,41.32012400115339,20.565123083486515,75.64633275546291,34.30469286314919,12.045035402587823,25.353644939701113,15.556761439304724,39.442060594376564,15.922827933410922,27.825594022071243,16.68100537200059,77.4263682681127,30.538555088334157,22.570197196339205,31.25715849688237,17.88649529057435,54.62277217684343,31.992671377973846,17.47528400007684,17.073526474706906,24.20128264794382,35.938136638046274,18.30738280295368,55.90810182512222,57.2236765935022,23.1012970008316,62.802914418342525,37.64935806792467,16.297508346206442,68.926121043497,10.0,40.37017258596554,86.97490026177834,21.54434690031885,45.34878508128582,58.570208180566674,28.480358684358023,33.516026509388425,10.97498765493056,25.950242113997355,79.24828983539177,12.915496650148842,11.497569953977356,53.3669923120631,38.535285937105286,18.738174228603842,46.4158883361278,47.50810162102798,22.051307399030456,48.62601580065353,81.11308307896873,52.14008287999685,20.09233002565047,11.233240329780278,95.45484566618342,43.287612810830595,13.53047774579807,61.35907273413176,21.049041445120206,84.97534359086447,27.1858824273294,83.02175681319744,67.34150657750821,24.770763559917118,50.9413801481638,14.174741629268054,15.199110829529339,93.26033468832199,12.618568830660204,32.74549162877728,11.768119524349984,65.79332246575683,10.476157527896646],\"coloraxis\":\"coloraxis\",\"symbol\":\"circle\",\"size\":2},\"mode\":\"markers\",\"name\":\"\",\"scene\":\"scene\",\"showlegend\":false,\"x\":[3.778083077379369,-13.069494763731864,27.317119963150965,-9.497607328147996,-1.116745737470697,23.623545441365597,-49.016827751753254,8.222140653031607,0.1711462476991141,-5.353574094772302,6.261312437270467,-18.326507286510214,9.93886398832563,11.297958957416247,-24.005684868348826,56.556510279574795,-10.642144686591582,-3.2640955300548553,8.753706468841493,-14.742812159038175,27.536078831407778,8.161056875316337,-50.039926509549595,24.44373360164972,-7.843579671560848,-1.0358113160966569,16.87705970232839,-36.88801357176919,14.006423651239016,-7.785481377496144,-18.573005230651518,10.965784865508072,-20.358237687833636,4.173327577604037,16.42797685199906,-14.175734682198646,25.018227338697606,-7.21706076847988,-20.707598903556114,25.44233309744396,-21.756678062413325,18.353029667711787,1.8239449908293999,-40.50787410979702,31.794564411290143,-12.646252190188855,1.2209889370240197,15.007556731470764,-35.467202997129284,15.289148850620498,-13.65919424180671,-27.160930901155965,21.794638988996727,-57.52463210422421,15.354672267774307,5.091366085137814,-59.66314664389804,9.621541614984055,-22.363518443018396,-12.309019210187422,16.318798327876397,-44.061045825227374,39.561491738908764,-0.8341051268583276,-20.9374145225383,10.361812991628161,-19.88482258136616,15.148046664524735,6.129226977856368,-10.135824252764259,43.859188626834175,-12.923064651396086,-5.9114279615778464,36.56235156752917,-39.874352633736706,10.005461025145147,7.62483366081896,-54.2071208479719,42.63319388396743,-10.827083446486915,-0.09709455496865929,50.667201332403266,-32.799202353133744,7.904184984403268,-7.2583129340637615,-8.09174719694534,56.246140317134056,-15.866540481231533,17.627446357319734,16.168879520373377,-13.223358934773287,27.01652087085713,-3.6733204454516355,-1.688837719336565,35.05119300644409,-5.18073907193642,7.655660084046425,0.19186540376962866,-11.405324575352976,1.4769232320610535],\"y\":[9.71727353182662,-6.448464480140906,-7.952174913034493,15.634847960079112,-5.632207059048087,17.348587226737326,5.324527880944185,-9.356355361276059,8.280840916252542,-5.606848142053353,0.4193360349953929,14.661680657718874,-63.854275350340416,16.975735324512925,-5.924170160524471,-30.873597935331844,31.121961035687406,-7.466200295658772,3.877945392892223,4.9611037121189145,-49.8626716510317,33.77742512010834,-33.65674576958764,-3.6826055142367378,9.706704671943086,-16.686736462792958,16.272814871193397,-0.9424389035099524,-12.18793186695349,68.5552619098936,-25.551170837592295,2.229931423918389,12.231335752376724,-14.079807051442046,33.70900833677753,-5.5912950398483625,-9.58687441468368,14.449186060847394,-72.44936633553209,15.625723210283022,4.203679690063665,-24.737434619405647,17.58981487651654,-35.9490714348422,-0.5019665630010844,11.957601492913623,-16.987822588471964,18.947587380794396,-5.6977874545119676,-10.068201253994907,54.21097389613897,-50.33771847445782,7.571621996120336,24.815240297447627,-34.208575851039754,15.377675489631441,-33.32912244437259,-2.2750685596548554,32.90173366783099,-84.49874591011577,13.318644741081748,2.5193348376546894,-40.63192497670386,27.40991904151612,-24.29973569642225,1.2279684566458404,14.306431980747895,-72.6738771668262,10.315344590446546,-3.058178656571656,-21.110485829263226,32.30157938212079,-15.654793523350358,18.485521763159365,11.186835432338842,-16.11442337110878,40.52365048065332,-40.62846651499301,-4.210665258726935,12.080869965806203,-8.900705945884905,54.111526417892065,-2.518310286691979,-6.19805181967783,43.81514307325469,-12.419265090266489,14.464148502871526,8.461499992565958,-49.952532694554904,37.98984293546347,-6.013038301460466,-8.798842662589164,6.500994748975502,-7.3011697807110085,24.07534102079093,0.7288922321199249,-9.287312333023642,3.669581691136823,-11.213757757453946,0.052156590470575005],\"z\":[73.16814813190521,58.14997228093726,86.5604618309715,46.286319148288634,12.602465979684247,57.209850743830465,87.0,20.098160007485962,12.32523657671206,10.707723302574834,8.085895073002307,28.323524243080485,73.27574679744193,21.780624854068385,24.929461312927426,61.424840895707675,29.685163765812007,6.9697369430671,7.766934458485015,11.974547965245648,41.623333633240016,24.106684384020145,39.71444960112005,15.44978123297344,7.3992267703292915,9.397760282195195,12.483612579849428,18.594055800519023,8.843002925899203,31.014996429739796,13.378830216628186,4.4566630989574945,8.873775728895389,5.1337312749705575,12.227038784256736,4.617620100689168,7.512910385959236,4.170251343000148,17.80806470166592,6.413096568550172,4.288337467304448,5.313716944470004,2.6829742935861534,7.100960382989646,3.5191938515771226,1.572775560006915,1.1951468532294827,1.2100641323971921,1.078144099141389,0.18307382802953695,-0.5590810182512227,-1.7167102978050675,-1.1550648500415812,-4.396204009283981,-3.3884422261132237,-1.7927259180827102,-8.960395735654602,-1.4999999999999991,-6.862929339614139,-16.52523104973788,-4.524312849066957,-10.430220568695738,-14.642552045141668,-7.689696844776666,-9.719647687722645,-3.4022461730284745,-8.56357989761913,-27.73690144238713,-4.778733760555072,-4.4840522820511675,-21.880466847945865,-16.570172952955275,-8.432178402871727,-21.815467517980064,-23.278969794303713,-11.246166773505532,-25.771788374346375,-44.6121956934328,-29.719847241598206,-11.854474715133778,-6.852276601165969,-60.13655276969554,-28.13694832703988,-9.065420089684705,-42.33776018655091,-14.944819426035346,-62.03200082133106,-20.38941182049705,-63.92675274616203,-53.19979019623149,-20.064318483532865,-42.28134552297596,-12.048530384877848,-13.223226421690526,-83.00169787260656,-11.482897635900784,-30.45330721476287,-11.179713548132485,-63.819522791784124,-10.37139595261768],\"type\":\"scatter3d\"}],                        {\"template\":{\"data\":{\"histogram2dcontour\":[{\"type\":\"histogram2dcontour\",\"colorbar\":{\"outlinewidth\":0,\"ticks\":\"\"},\"colorscale\":[[0.0,\"#0d0887\"],[0.1111111111111111,\"#46039f\"],[0.2222222222222222,\"#7201a8\"],[0.3333333333333333,\"#9c179e\"],[0.4444444444444444,\"#bd3786\"],[0.5555555555555556,\"#d8576b\"],[0.6666666666666666,\"#ed7953\"],[0.7777777777777778,\"#fb9f3a\"],[0.8888888888888888,\"#fdca26\"],[1.0,\"#f0f921\"]]}],\"choropleth\":[{\"type\":\"choropleth\",\"colorbar\":{\"outlinewidth\":0,\"ticks\":\"\"}}],\"histogram2d\":[{\"type\":\"histogram2d\",\"colorbar\":{\"outlinewidth\":0,\"ticks\":\"\"},\"colorscale\":[[0.0,\"#0d0887\"],[0.1111111111111111,\"#46039f\"],[0.2222222222222222,\"#7201a8\"],[0.3333333333333333,\"#9c179e\"],[0.4444444444444444,\"#bd3786\"],[0.5555555555555556,\"#d8576b\"],[0.6666666666666666,\"#ed7953\"],[0.7777777777777778,\"#fb9f3a\"],[0.8888888888888888,\"#fdca26\"],[1.0,\"#f0f921\"]]}],\"heatmap\":[{\"type\":\"heatmap\",\"colorbar\":{\"outlinewidth\":0,\"ticks\":\"\"},\"colorscale\":[[0.0,\"#0d0887\"],[0.1111111111111111,\"#46039f\"],[0.2222222222222222,\"#7201a8\"],[0.3333333333333333,\"#9c179e\"],[0.4444444444444444,\"#bd3786\"],[0.5555555555555556,\"#d8576b\"],[0.6666666666666666,\"#ed7953\"],[0.7777777777777778,\"#fb9f3a\"],[0.8888888888888888,\"#fdca26\"],[1.0,\"#f0f921\"]]}],\"heatmapgl\":[{\"type\":\"heatmapgl\",\"colorbar\":{\"outlinewidth\":0,\"ticks\":\"\"},\"colorscale\":[[0.0,\"#0d0887\"],[0.1111111111111111,\"#46039f\"],[0.2222222222222222,\"#7201a8\"],[0.3333333333333333,\"#9c179e\"],[0.4444444444444444,\"#bd3786\"],[0.5555555555555556,\"#d8576b\"],[0.6666666666666666,\"#ed7953\"],[0.7777777777777778,\"#fb9f3a\"],[0.8888888888888888,\"#fdca26\"],[1.0,\"#f0f921\"]]}],\"contourcarpet\":[{\"type\":\"contourcarpet\",\"colorbar\":{\"outlinewidth\":0,\"ticks\":\"\"}}],\"contour\":[{\"type\":\"contour\",\"colorbar\":{\"outlinewidth\":0,\"ticks\":\"\"},\"colorscale\":[[0.0,\"#0d0887\"],[0.1111111111111111,\"#46039f\"],[0.2222222222222222,\"#7201a8\"],[0.3333333333333333,\"#9c179e\"],[0.4444444444444444,\"#bd3786\"],[0.5555555555555556,\"#d8576b\"],[0.6666666666666666,\"#ed7953\"],[0.7777777777777778,\"#fb9f3a\"],[0.8888888888888888,\"#fdca26\"],[1.0,\"#f0f921\"]]}],\"surface\":[{\"type\":\"surface\",\"colorbar\":{\"outlinewidth\":0,\"ticks\":\"\"},\"colorscale\":[[0.0,\"#0d0887\"],[0.1111111111111111,\"#46039f\"],[0.2222222222222222,\"#7201a8\"],[0.3333333333333333,\"#9c179e\"],[0.4444444444444444,\"#bd3786\"],[0.5555555555555556,\"#d8576b\"],[0.6666666666666666,\"#ed7953\"],[0.7777777777777778,\"#fb9f3a\"],[0.8888888888888888,\"#fdca26\"],[1.0,\"#f0f921\"]]}],\"mesh3d\":[{\"type\":\"mesh3d\",\"colorbar\":{\"outlinewidth\":0,\"ticks\":\"\"}}],\"scatter\":[{\"fillpattern\":{\"fillmode\":\"overlay\",\"size\":10,\"solidity\":0.2},\"type\":\"scatter\"}],\"parcoords\":[{\"type\":\"parcoords\",\"line\":{\"colorbar\":{\"outlinewidth\":0,\"ticks\":\"\"}}}],\"scatterpolargl\":[{\"type\":\"scatterpolargl\",\"marker\":{\"colorbar\":{\"outlinewidth\":0,\"ticks\":\"\"}}}],\"bar\":[{\"error_x\":{\"color\":\"#2a3f5f\"},\"error_y\":{\"color\":\"#2a3f5f\"},\"marker\":{\"line\":{\"color\":\"#E5ECF6\",\"width\":0.5},\"pattern\":{\"fillmode\":\"overlay\",\"size\":10,\"solidity\":0.2}},\"type\":\"bar\"}],\"scattergeo\":[{\"type\":\"scattergeo\",\"marker\":{\"colorbar\":{\"outlinewidth\":0,\"ticks\":\"\"}}}],\"scatterpolar\":[{\"type\":\"scatterpolar\",\"marker\":{\"colorbar\":{\"outlinewidth\":0,\"ticks\":\"\"}}}],\"histogram\":[{\"marker\":{\"pattern\":{\"fillmode\":\"overlay\",\"size\":10,\"solidity\":0.2}},\"type\":\"histogram\"}],\"scattergl\":[{\"type\":\"scattergl\",\"marker\":{\"colorbar\":{\"outlinewidth\":0,\"ticks\":\"\"}}}],\"scatter3d\":[{\"type\":\"scatter3d\",\"line\":{\"colorbar\":{\"outlinewidth\":0,\"ticks\":\"\"}},\"marker\":{\"colorbar\":{\"outlinewidth\":0,\"ticks\":\"\"}}}],\"scattermapbox\":[{\"type\":\"scattermapbox\",\"marker\":{\"colorbar\":{\"outlinewidth\":0,\"ticks\":\"\"}}}],\"scatterternary\":[{\"type\":\"scatterternary\",\"marker\":{\"colorbar\":{\"outlinewidth\":0,\"ticks\":\"\"}}}],\"scattercarpet\":[{\"type\":\"scattercarpet\",\"marker\":{\"colorbar\":{\"outlinewidth\":0,\"ticks\":\"\"}}}],\"carpet\":[{\"aaxis\":{\"endlinecolor\":\"#2a3f5f\",\"gridcolor\":\"white\",\"linecolor\":\"white\",\"minorgridcolor\":\"white\",\"startlinecolor\":\"#2a3f5f\"},\"baxis\":{\"endlinecolor\":\"#2a3f5f\",\"gridcolor\":\"white\",\"linecolor\":\"white\",\"minorgridcolor\":\"white\",\"startlinecolor\":\"#2a3f5f\"},\"type\":\"carpet\"}],\"table\":[{\"cells\":{\"fill\":{\"color\":\"#EBF0F8\"},\"line\":{\"color\":\"white\"}},\"header\":{\"fill\":{\"color\":\"#C8D4E3\"},\"line\":{\"color\":\"white\"}},\"type\":\"table\"}],\"barpolar\":[{\"marker\":{\"line\":{\"color\":\"#E5ECF6\",\"width\":0.5},\"pattern\":{\"fillmode\":\"overlay\",\"size\":10,\"solidity\":0.2}},\"type\":\"barpolar\"}],\"pie\":[{\"automargin\":true,\"type\":\"pie\"}]},\"layout\":{\"autotypenumbers\":\"strict\",\"colorway\":[\"#636efa\",\"#EF553B\",\"#00cc96\",\"#ab63fa\",\"#FFA15A\",\"#19d3f3\",\"#FF6692\",\"#B6E880\",\"#FF97FF\",\"#FECB52\"],\"font\":{\"color\":\"#2a3f5f\"},\"hovermode\":\"closest\",\"hoverlabel\":{\"align\":\"left\"},\"paper_bgcolor\":\"white\",\"plot_bgcolor\":\"#E5ECF6\",\"polar\":{\"bgcolor\":\"#E5ECF6\",\"angularaxis\":{\"gridcolor\":\"white\",\"linecolor\":\"white\",\"ticks\":\"\"},\"radialaxis\":{\"gridcolor\":\"white\",\"linecolor\":\"white\",\"ticks\":\"\"}},\"ternary\":{\"bgcolor\":\"#E5ECF6\",\"aaxis\":{\"gridcolor\":\"white\",\"linecolor\":\"white\",\"ticks\":\"\"},\"baxis\":{\"gridcolor\":\"white\",\"linecolor\":\"white\",\"ticks\":\"\"},\"caxis\":{\"gridcolor\":\"white\",\"linecolor\":\"white\",\"ticks\":\"\"}},\"coloraxis\":{\"colorbar\":{\"outlinewidth\":0,\"ticks\":\"\"}},\"colorscale\":{\"sequential\":[[0.0,\"#0d0887\"],[0.1111111111111111,\"#46039f\"],[0.2222222222222222,\"#7201a8\"],[0.3333333333333333,\"#9c179e\"],[0.4444444444444444,\"#bd3786\"],[0.5555555555555556,\"#d8576b\"],[0.6666666666666666,\"#ed7953\"],[0.7777777777777778,\"#fb9f3a\"],[0.8888888888888888,\"#fdca26\"],[1.0,\"#f0f921\"]],\"sequentialminus\":[[0.0,\"#0d0887\"],[0.1111111111111111,\"#46039f\"],[0.2222222222222222,\"#7201a8\"],[0.3333333333333333,\"#9c179e\"],[0.4444444444444444,\"#bd3786\"],[0.5555555555555556,\"#d8576b\"],[0.6666666666666666,\"#ed7953\"],[0.7777777777777778,\"#fb9f3a\"],[0.8888888888888888,\"#fdca26\"],[1.0,\"#f0f921\"]],\"diverging\":[[0,\"#8e0152\"],[0.1,\"#c51b7d\"],[0.2,\"#de77ae\"],[0.3,\"#f1b6da\"],[0.4,\"#fde0ef\"],[0.5,\"#f7f7f7\"],[0.6,\"#e6f5d0\"],[0.7,\"#b8e186\"],[0.8,\"#7fbc41\"],[0.9,\"#4d9221\"],[1,\"#276419\"]]},\"xaxis\":{\"gridcolor\":\"white\",\"linecolor\":\"white\",\"ticks\":\"\",\"title\":{\"standoff\":15},\"zerolinecolor\":\"white\",\"automargin\":true,\"zerolinewidth\":2},\"yaxis\":{\"gridcolor\":\"white\",\"linecolor\":\"white\",\"ticks\":\"\",\"title\":{\"standoff\":15},\"zerolinecolor\":\"white\",\"automargin\":true,\"zerolinewidth\":2},\"scene\":{\"xaxis\":{\"backgroundcolor\":\"#E5ECF6\",\"gridcolor\":\"white\",\"linecolor\":\"white\",\"showbackground\":true,\"ticks\":\"\",\"zerolinecolor\":\"white\",\"gridwidth\":2},\"yaxis\":{\"backgroundcolor\":\"#E5ECF6\",\"gridcolor\":\"white\",\"linecolor\":\"white\",\"showbackground\":true,\"ticks\":\"\",\"zerolinecolor\":\"white\",\"gridwidth\":2},\"zaxis\":{\"backgroundcolor\":\"#E5ECF6\",\"gridcolor\":\"white\",\"linecolor\":\"white\",\"showbackground\":true,\"ticks\":\"\",\"zerolinecolor\":\"white\",\"gridwidth\":2}},\"shapedefaults\":{\"line\":{\"color\":\"#2a3f5f\"}},\"annotationdefaults\":{\"arrowcolor\":\"#2a3f5f\",\"arrowhead\":0,\"arrowwidth\":1},\"geo\":{\"bgcolor\":\"white\",\"landcolor\":\"#E5ECF6\",\"subunitcolor\":\"white\",\"showland\":true,\"showlakes\":true,\"lakecolor\":\"white\"},\"title\":{\"x\":0.05},\"mapbox\":{\"style\":\"light\"}}},\"scene\":{\"domain\":{\"x\":[0.0,1.0],\"y\":[0.0,1.0]},\"xaxis\":{\"title\":{\"text\":\"X\"}},\"yaxis\":{\"title\":{\"text\":\"Y\"}},\"zaxis\":{\"title\":{\"text\":\"Z\"}}},\"coloraxis\":{\"colorbar\":{\"title\":{\"text\":\"Radius\"}},\"colorscale\":[[0.0,\"#440154\"],[0.1111111111111111,\"#482878\"],[0.2222222222222222,\"#3e4989\"],[0.3333333333333333,\"#31688e\"],[0.4444444444444444,\"#26828e\"],[0.5555555555555556,\"#1f9e89\"],[0.6666666666666666,\"#35b779\"],[0.7777777777777778,\"#6ece58\"],[0.8888888888888888,\"#b5de2b\"],[1.0,\"#fde725\"]]},\"legend\":{\"tracegroupgap\":0},\"title\":{\"text\":\"3D Scatter Plot of Generated Points\"},\"margin\":{\"l\":0,\"r\":0,\"b\":0,\"t\":40}},                        {\"responsive\": true}                    ).then(function(){\n",
       "                            \n",
       "var gd = document.getElementById('fef37d58-3aec-42a6-b7c5-20faa8fe2b58');\n",
       "var x = new MutationObserver(function (mutations, observer) {{\n",
       "        var display = window.getComputedStyle(gd).display;\n",
       "        if (!display || display === 'none') {{\n",
       "            console.log([gd, 'removed!']);\n",
       "            Plotly.purge(gd);\n",
       "            observer.disconnect();\n",
       "        }}\n",
       "}});\n",
       "\n",
       "// Listen for the removal of the full notebook cells\n",
       "var notebookContainer = gd.closest('#notebook-container');\n",
       "if (notebookContainer) {{\n",
       "    x.observe(notebookContainer, {childList: true});\n",
       "}}\n",
       "\n",
       "// Listen for the clearing of the current output cell\n",
       "var outputEl = gd.closest('.output');\n",
       "if (outputEl) {{\n",
       "    x.observe(outputEl, {childList: true});\n",
       "}}\n",
       "\n",
       "                        })                };                });            </script>        </div>"
      ]
     },
     "metadata": {},
     "output_type": "display_data"
    },
    {
     "name": "stdout",
     "output_type": "stream",
     "text": [
      "Displaying distribution histograms...\n"
     ]
    },
    {
     "data": {
      "image/png": "[encoded data removed]",
      "text/plain": [
       "<Figure size 2000x600 with 3 Axes>"
      ]
     },
     "metadata": {},
     "output_type": "display_data"
    }
   ],
   "source": [
    "generate_log_spherical_points.visualize_point_distribution(points)\n"
   ]
  },
  {
   "cell_type": "code",
   "execution_count": null,
   "id": "50744a8c-4d91-41f5-8fdc-75039cde662d",
   "metadata": {},
   "outputs": [],
   "source": []
  }
 ],
 "metadata": {
  "kernelspec": {
   "display_name": "Python 3 (ipykernel)",
   "language": "python",
   "name": "python3"
  },
  "language_info": {
   "codemirror_mode": {
    "name": "ipython",
    "version": 3
   },
   "file_extension": ".py",
   "mimetype": "text/x-python",
   "name": "python",
   "nbconvert_exporter": "python",
   "pygments_lexer": "ipython3",
   "version": "3.12.4"
  }
 },
 "nbformat": 4,
 "nbformat_minor": 5
}
